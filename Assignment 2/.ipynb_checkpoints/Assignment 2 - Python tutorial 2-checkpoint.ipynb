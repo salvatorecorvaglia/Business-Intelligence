{
 "cells": [
  {
   "cell_type": "markdown",
   "metadata": {},
   "source": [
    "## Assignment 2"
   ]
  },
  {
   "cell_type": "markdown",
   "metadata": {},
   "source": [
    "### Problem"
   ]
  },
  {
   "cell_type": "markdown",
   "metadata": {},
   "source": [
    "Write a script that reads the attached text file \"The sun has set\" and computes the number of occurrences of each letter. The output must be a dictionary \"number\" such that number['a'] is the number of occurrence of letter 'a'."
   ]
  },
  {
   "cell_type": "markdown",
   "metadata": {},
   "source": [
    "### Resolution"
   ]
  },
  {
   "cell_type": "markdown",
   "metadata": {},
   "source": [
    "We must open the file \"The sun has set.txt\" and read it. After we can count the letters and save them in a dictionary. Below it can be seen the code:"
   ]
  },
  {
   "cell_type": "code",
   "execution_count": 1,
   "metadata": {},
   "outputs": [
    {
     "name": "stdout",
     "output_type": "stream",
     "text": [
      "The dictionary is:  {'a': 21, 'b': 5, 'c': 8, 'd': 13, 'e': 29, 'f': 2, 'g': 4, 'h': 29, 'i': 20, 'j': 0, 'k': 11, 'l': 13, 'm': 3, 'n': 29, 'o': 26, 'p': 5, 'q': 0, 'r': 7, 's': 26, 't': 32, 'u': 9, 'v': 0, 'w': 5, 'x': 1, 'y': 3, 'z': 0, 'A': 1, 'B': 1, 'C': 0, 'D': 1, 'E': 2, 'F': 0, 'G': 0, 'H': 3, 'I': 2, 'J': 1, 'K': 1, 'L': 1, 'M': 0, 'N': 4, 'O': 0, 'P': 0, 'Q': 0, 'R': 0, 'S': 4, 'T': 8, 'U': 1, 'V': 0, 'W': 0, 'X': 0, 'Y': 0, 'Z': 0}\n"
     ]
    }
   ],
   "source": [
    "import string\n",
    "\n",
    "number = {}\n",
    "f1=open(\"The sun has set.txt\", \"r\")\n",
    "if f1.mode == 'r':\n",
    "    contents = f1.read()\n",
    "\n",
    "for c in string.ascii_lowercase:\n",
    "    #print(c, \":\", contents.count(c))\n",
    "    number[c] = contents.count(c)\n",
    "for c in string.ascii_uppercase:\n",
    "    #print(c, \":\", contents.count(c))\n",
    "    number[c] = contents.count(c)\n",
    "print(\"The dictionary is: \", number)"
   ]
  },
  {
   "cell_type": "markdown",
   "metadata": {},
   "source": [
    "We can do the same thing without distiguish from upper case and lower case in this way:"
   ]
  },
  {
   "cell_type": "code",
   "execution_count": 2,
   "metadata": {},
   "outputs": [
    {
     "name": "stdout",
     "output_type": "stream",
     "text": [
      "The dictionary is:  {'a': 22, 'b': 6, 'c': 8, 'd': 14, 'e': 31, 'f': 2, 'g': 4, 'h': 32, 'i': 22, 'j': 1, 'k': 12, 'l': 14, 'm': 3, 'n': 33, 'o': 26, 'p': 5, 'q': 0, 'r': 7, 's': 30, 't': 40, 'u': 10, 'v': 0, 'w': 5, 'x': 1, 'y': 3, 'z': 0}\n"
     ]
    }
   ],
   "source": [
    "number2 = {}\n",
    "f2=open(\"The sun has set.txt\", \"r\")\n",
    "if f2.mode == 'r':\n",
    "    contents2 = f2.read()\n",
    "contents2 = contents2.lower()\n",
    "for c in string.ascii_lowercase:\n",
    "    #print(c, \":\", contents.count(c))\n",
    "    number2[c] = contents2.count(c)\n",
    "print(\"The dictionary is: \", number2)"
   ]
  }
 ],
 "metadata": {
  "kernelspec": {
   "display_name": "Python 3",
   "language": "python",
   "name": "python3"
  },
  "language_info": {
   "codemirror_mode": {
    "name": "ipython",
    "version": 3
   },
   "file_extension": ".py",
   "mimetype": "text/x-python",
   "name": "python",
   "nbconvert_exporter": "python",
   "pygments_lexer": "ipython3",
   "version": "3.7.0"
  }
 },
 "nbformat": 4,
 "nbformat_minor": 2
}
