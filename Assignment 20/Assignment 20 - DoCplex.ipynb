{
 "cells": [
  {
   "cell_type": "markdown",
   "metadata": {},
   "source": [
    "# Assignment 20 - DoCplex"
   ]
  },
  {
   "cell_type": "markdown",
   "metadata": {},
   "source": [
    "### Problem"
   ]
  },
  {
   "cell_type": "markdown",
   "metadata": {},
   "source": [
    "Suppose that - in the product mix problem  of assignment #19 - workers can be moved from one department to another.\n",
    "\n",
    "Model the new problem and solve it with DoCplex.\n",
    "\n",
    "Does the profit increases? What is the best allocation of workers between the two departments? What is the new optimal product mix?"
   ]
  },
  {
   "cell_type": "markdown",
   "metadata": {},
   "source": [
    "### Resolution"
   ]
  },
  {
   "cell_type": "markdown",
   "metadata": {},
   "source": [
    "Differently from the previous assignment we must consider the hour per plant like variables $X_3$, $X_4$ and $X_5$.\n",
    "We can find the following situation to optimize:\n",
    "    $$Max: Z = 3X_1 + 5X_2 $$\n",
    "    $$s.t.$$\n",
    "    $$X_3 + X_4 + X_5 = 400$$\n",
    "    $$X_1\\leq X_3$$\n",
    "    $$2X_2\\leq X_4$$\n",
    "    $$3X_1+2X_2\\leq X_5$$\n",
    "So we make the following implementation with DoCplex:"
   ]
  },
  {
   "cell_type": "code",
   "execution_count": 5,
   "metadata": {},
   "outputs": [
    {
     "name": "stdout",
     "output_type": "stream",
     "text": [
      "The optimal values obtained are:\n",
      "Product 1: 1.0\n",
      "Product 2: 99.0\n",
      "Workers plant 1: 1.0\n",
      "Workers plant 2: 198.0\n",
      "Workers plant 3: 201.0\n"
     ]
    }
   ],
   "source": [
    "from docplex.mp.model import Model\n",
    "\n",
    "mdl = Model(name=\"Products\")\n",
    "\n",
    "nbProd1 = mdl.integer_var(name=\"nbProd1\")\n",
    "nbProd2 = mdl.integer_var(name=\"nbProd2\")\n",
    "nbHours1 = mdl.integer_var(name=\"nbHours1\")\n",
    "nbHours2 = mdl.integer_var(name=\"nbHours2\")\n",
    "nbHours3 = mdl.integer_var(name=\"nbHours3\")\n",
    "\n",
    "mdl.add_constraint( nbHours1 + nbHours2 + nbHours3 == 400, \"hours\")\n",
    "mdl.add_constraint( nbProd1 <= nbHours1, \"Plant1\")\n",
    "mdl.add_constraint( 2*nbProd2 <= nbHours2, \"Plant2\")\n",
    "mdl.add_constraint( 3*nbProd1 + 2*nbProd2 <= nbHours3, \"Plant3\")\n",
    "\n",
    "mdl.maximize(3*nbProd1 + 5*nbProd2)\n",
    "\n",
    "mdl.parameters.threads = 4\n",
    "mdl.solve(log_output=False)\n",
    "\n",
    "print(\"The optimal values obtained are:\")\n",
    "print(\"Product 1:\", nbProd1.solution_value)\n",
    "print(\"Product 2:\", nbProd2.solution_value)\n",
    "print(\"Workers plant 1:\", nbHours1.solution_value)\n",
    "print(\"Workers plant 2:\", nbHours2.solution_value)\n",
    "print(\"Workers plant 3:\", nbHours3.solution_value)"
   ]
  }
 ],
 "metadata": {
  "kernelspec": {
   "display_name": "Python 3",
   "language": "python",
   "name": "python3"
  },
  "language_info": {
   "codemirror_mode": {
    "name": "ipython",
    "version": 3
   },
   "file_extension": ".py",
   "mimetype": "text/x-python",
   "name": "python",
   "nbconvert_exporter": "python",
   "pygments_lexer": "ipython3",
   "version": "3.7.0"
  }
 },
 "nbformat": 4,
 "nbformat_minor": 2
}
