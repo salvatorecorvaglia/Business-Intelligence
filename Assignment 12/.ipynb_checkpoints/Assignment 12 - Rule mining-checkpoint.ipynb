{
 "cells": [
  {
   "cell_type": "markdown",
   "metadata": {},
   "source": [
    "## Assignment 12"
   ]
  },
  {
   "cell_type": "markdown",
   "metadata": {},
   "source": [
    "### Problem"
   ]
  },
  {
   "cell_type": "markdown",
   "metadata": {},
   "source": [
    "Develop significant associative rules for a given dataset by using a Python code.\n",
    "\n",
    "Chose $supp = 0.2$ and $conf = 0.6$."
   ]
  },
  {
   "cell_type": "markdown",
   "metadata": {},
   "source": [
    "### Resolution"
   ]
  },
  {
   "cell_type": "markdown",
   "metadata": {},
   "source": [
    "We can import from _apyori_ the function _apriori_ that execute the Apriori algorithm. We also declare the dataset that we must use."
   ]
  },
  {
   "cell_type": "code",
   "execution_count": 1,
   "metadata": {},
   "outputs": [],
   "source": [
    "from apyori import apriori \n",
    "data=[[\"A\",\"C\"], [\"A\", \"B\", \"D\"], [\"B\",\"D\"], [\"B\",\"D\"], [\"A\", \"B\", \"C\"],\n",
    "         [\"B\", \"C\"], [\"A\", \"C\"], [\"A\", \"B\", \"E\"], [\"A\", \"B\", \"C\", \"E\"], [\"A\", \"E\"]]\n"
   ]
  },
  {
   "cell_type": "markdown",
   "metadata": {},
   "source": [
    "We can use the function _apriori_ and later we can process he result in order to obtain a more understandable view of the data obtained."
   ]
  },
  {
   "cell_type": "code",
   "execution_count": 2,
   "metadata": {},
   "outputs": [
    {
     "name": "stdout",
     "output_type": "stream",
     "text": [
      "Rule: {['C']} -> {A}\n",
      "Support: 0.4\n",
      "Confidence: 0.8\n",
      "Lift: 1.142857142857143\n",
      "-----------------------------------\n",
      "Rule: {['E']} -> {A}\n",
      "Support: 0.3\n",
      "Confidence: 1.0\n",
      "Lift: 1.4285714285714286\n",
      "-----------------------------------\n",
      "Rule: {['C']} -> {B}\n",
      "Support: 0.3\n",
      "Confidence: 0.6\n",
      "Lift: 0.8571428571428572\n",
      "-----------------------------------\n",
      "Rule: {['D']} -> {B}\n",
      "Support: 0.3\n",
      "Confidence: 1.0\n",
      "Lift: 1.4285714285714286\n",
      "-----------------------------------\n",
      "Rule: {['E']} -> {B}\n",
      "Support: 0.2\n",
      "Confidence: 0.6666666666666667\n",
      "Lift: 0.9523809523809526\n",
      "-----------------------------------\n",
      "Rule: {['C', 'B']} -> {A}\n",
      "Support: 0.2\n",
      "Confidence: 0.6666666666666667\n",
      "Lift: 0.9523809523809526\n",
      "-----------------------------------\n",
      "Rule: {['E', 'A']} -> {B}\n",
      "Support: 0.2\n",
      "Confidence: 0.6666666666666667\n",
      "Lift: 0.9523809523809526\n",
      "-----------------------------------\n"
     ]
    }
   ],
   "source": [
    "association_rules = apriori(data, min_support=0.2, min_confidence=0.6)  \n",
    "association_results = list(association_rules)\n",
    "for item in association_results:\n",
    "\n",
    "    pair = item[2]\n",
    "    base = [x for x in pair[0][0]]\n",
    "    rule = [x for x in pair[0][1]]\n",
    "\n",
    "    if len(base) == 0:\n",
    "        continue\n",
    "    print(\"Rule: {\" + str(base) + \"} -> {\" + rule[0] + \"}\")\n",
    "    print(\"Support: \" + str(item[1]))\n",
    "    print(\"Confidence: \" + str(item[2][0][2]))\n",
    "    print(\"Lift: \" + str(item[2][0][3]))\n",
    "    print(\"-----------------------------------\")"
   ]
  }
 ],
 "metadata": {
  "kernelspec": {
   "display_name": "Python 3",
   "language": "python",
   "name": "python3"
  },
  "language_info": {
   "codemirror_mode": {
    "name": "ipython",
    "version": 3
   },
   "file_extension": ".py",
   "mimetype": "text/x-python",
   "name": "python",
   "nbconvert_exporter": "python",
   "pygments_lexer": "ipython3",
   "version": "3.7.0"
  }
 },
 "nbformat": 4,
 "nbformat_minor": 2
}
