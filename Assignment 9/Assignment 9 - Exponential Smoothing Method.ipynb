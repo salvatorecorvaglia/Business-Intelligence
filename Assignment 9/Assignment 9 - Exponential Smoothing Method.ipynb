{
 "cells": [
  {
   "cell_type": "markdown",
   "metadata": {},
   "source": [
    "## Assignment 9"
   ]
  },
  {
   "cell_type": "markdown",
   "metadata": {},
   "source": [
    "### Problem"
   ]
  },
  {
   "cell_type": "markdown",
   "metadata": {},
   "source": [
    "Find a suitable Python library that implements the exponential smoothing method. Solve the Regens Book problem."
   ]
  },
  {
   "cell_type": "markdown",
   "metadata": {},
   "source": [
    "### Resolution"
   ]
  },
  {
   "cell_type": "markdown",
   "metadata": {},
   "source": [
    "We can use the function _ExponentialSmoothing_ from _statsmodels.tsa.holtwinters_."
   ]
  },
  {
   "cell_type": "code",
   "execution_count": 1,
   "metadata": {},
   "outputs": [],
   "source": [
    "from statsmodels.tsa.holtwinters import ExponentialSmoothing\n",
    "import numpy as np\n",
    "\n",
    "\n",
    "# prepare data\n",
    "data = np.array([[1, 89], [2, 106], [3, 92], [4, 98], [5, 77], [6, 80], [7, 88], [8, 87],  [9, 92], [10, 86]])\n",
    "data = np.array([89, 106, 92, 98, 77,80,88,87,92,86])\n",
    "# create class\n",
    "model = ExponentialSmoothing(data.astype(np.double))\n",
    "# fit model\n",
    "model_fit = model.fit()\n",
    "# make prediction\n",
    "yhat = model_fit.predict()"
   ]
  },
  {
   "cell_type": "code",
   "execution_count": 2,
   "metadata": {},
   "outputs": [
    {
     "name": "stdout",
     "output_type": "stream",
     "text": [
      "[ 89 106  92  98  77  80  88  87  92  86]\n"
     ]
    }
   ],
   "source": [
    "print(data)"
   ]
  },
  {
   "cell_type": "code",
   "execution_count": 3,
   "metadata": {},
   "outputs": [
    {
     "name": "stdout",
     "output_type": "stream",
     "text": [
      "<statsmodels.tsa.holtwinters.HoltWintersResultsWrapper object at 0x106b41550>\n",
      "[89.49999991]\n"
     ]
    }
   ],
   "source": [
    "print(model_fit)\n",
    "print(yhat)"
   ]
  },
  {
   "cell_type": "code",
   "execution_count": 4,
   "metadata": {},
   "outputs": [
    {
     "name": "stdout",
     "output_type": "stream",
     "text": [
      "[ 89 106  92  98  77  80  88  87  92  86  88]\n",
      "[89.36363644]\n"
     ]
    }
   ],
   "source": [
    "data=np.append(data,88)\n",
    "print(data)\n",
    "# create class\n",
    "model = ExponentialSmoothing(data.astype(np.double))\n",
    "# fit model\n",
    "model_fit = model.fit()\n",
    "# make prediction\n",
    "yhat = model_fit.predict()\n",
    "print(yhat)"
   ]
  },
  {
   "cell_type": "code",
   "execution_count": 5,
   "metadata": {},
   "outputs": [
    {
     "name": "stdout",
     "output_type": "stream",
     "text": [
      "[ 89 106  92  98  77  80  88  87  92  86  88  89]\n"
     ]
    }
   ],
   "source": [
    "data=np.append(data,int(yhat))\n",
    "print(data)"
   ]
  },
  {
   "cell_type": "code",
   "execution_count": 6,
   "metadata": {},
   "outputs": [
    {
     "name": "stdout",
     "output_type": "stream",
     "text": [
      "[89.33333318]\n"
     ]
    }
   ],
   "source": [
    "# create class\n",
    "model = ExponentialSmoothing(data.astype(np.double))\n",
    "# fit model\n",
    "model_fit = model.fit()\n",
    "# make prediction\n",
    "yhat = model_fit.predict()\n",
    "print(yhat)"
   ]
  },
  {
   "cell_type": "code",
   "execution_count": 7,
   "metadata": {},
   "outputs": [
    {
     "name": "stdout",
     "output_type": "stream",
     "text": [
      "[ 89 106  92  98  77  80  88  87  92  86  88  89  89]\n",
      "[89.30769219]\n"
     ]
    }
   ],
   "source": [
    "data=np.append(data,int(yhat))\n",
    "print(data)\n",
    "# create class\n",
    "model = ExponentialSmoothing(data.astype(np.double))\n",
    "# fit model\n",
    "model_fit = model.fit()\n",
    "# make prediction\n",
    "yhat = model_fit.predict()\n",
    "print(yhat)"
   ]
  }
 ],
 "metadata": {
  "kernelspec": {
   "display_name": "Python 3",
   "language": "python",
   "name": "python3"
  },
  "language_info": {
   "codemirror_mode": {
    "name": "ipython",
    "version": 3
   },
   "file_extension": ".py",
   "mimetype": "text/x-python",
   "name": "python",
   "nbconvert_exporter": "python",
   "pygments_lexer": "ipython3",
   "version": "3.7.0"
  }
 },
 "nbformat": 4,
 "nbformat_minor": 2
}
