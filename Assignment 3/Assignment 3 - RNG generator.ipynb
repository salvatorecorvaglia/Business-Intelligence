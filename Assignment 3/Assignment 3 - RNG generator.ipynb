{
 "cells": [
  {
   "cell_type": "markdown",
   "metadata": {},
   "source": [
    "## Assignment 3"
   ]
  },
  {
   "cell_type": "markdown",
   "metadata": {},
   "source": [
    "### Problem"
   ]
  },
  {
   "cell_type": "markdown",
   "metadata": {},
   "source": [
    "Implement the approximate Gaussian RNG based on the Central Limit Theorem. Then determine a good choice of parameter N."
   ]
  },
  {
   "cell_type": "markdown",
   "metadata": {},
   "source": [
    "### Resolution"
   ]
  },
  {
   "cell_type": "markdown",
   "metadata": {},
   "source": [
    "We must compute n random variable with uniformalyy distribuited in (0,1). We can do this with the function _random()_ of random module form python. After we can use:\n",
    "$$ Z = \\frac{\\sum_{k=1}^{n} u_k - \\frac{n}{2}}{\\sqrt{\\frac{n}{12}}} $$\n",
    "$$ X = \\mu + \\sigma Z $$"
   ]
  },
  {
   "cell_type": "code",
   "execution_count": 1,
   "metadata": {},
   "outputs": [],
   "source": [
    "from random import *\n",
    "import numpy as np\n",
    "\n",
    "def compX(n, mu, sigma):\n",
    "    seed(11)\n",
    "    rands = []\n",
    "    for i in range (1, n):\n",
    "        rands.append(random())\n",
    "    z=(np.sum(rands)-n/2)/(np.square(n/12))\n",
    "    s = mu + sigma*z\n",
    "    print(s)"
   ]
  },
  {
   "cell_type": "markdown",
   "metadata": {},
   "source": [
    "We can observe that the greater is n, the closer X is to the mean value $\\mu$. For example:"
   ]
  },
  {
   "cell_type": "code",
   "execution_count": 2,
   "metadata": {},
   "outputs": [
    {
     "name": "stdout",
     "output_type": "stream",
     "text": [
      "-0.25388582581516456\n"
     ]
    }
   ],
   "source": [
    "compX(10,0,1)"
   ]
  },
  {
   "cell_type": "code",
   "execution_count": 3,
   "metadata": {},
   "outputs": [
    {
     "name": "stdout",
     "output_type": "stream",
     "text": [
      "0.000977738522279755\n"
     ]
    }
   ],
   "source": [
    "compX(1000,0,1)"
   ]
  },
  {
   "cell_type": "code",
   "execution_count": 4,
   "metadata": {},
   "outputs": [
    {
     "name": "stdout",
     "output_type": "stream",
     "text": [
      "-1.9621757359577573e-06\n"
     ]
    }
   ],
   "source": [
    "compX(100000,0,1)"
   ]
  },
  {
   "cell_type": "markdown",
   "metadata": {},
   "source": [
    "Moreover before a certain n value, X is really far from the variance value $\\sigma$:"
   ]
  },
  {
   "cell_type": "code",
   "execution_count": 5,
   "metadata": {},
   "outputs": [
    {
     "name": "stdout",
     "output_type": "stream",
     "text": [
      "-72.0\n"
     ]
    }
   ],
   "source": [
    "compX(1,0,1)"
   ]
  },
  {
   "cell_type": "code",
   "execution_count": 6,
   "metadata": {},
   "outputs": [
    {
     "name": "stdout",
     "output_type": "stream",
     "text": [
      "-7.805568966554965\n"
     ]
    }
   ],
   "source": [
    "compX(3,0,1)"
   ]
  },
  {
   "cell_type": "code",
   "execution_count": 7,
   "metadata": {},
   "outputs": [
    {
     "name": "stdout",
     "output_type": "stream",
     "text": [
      "-0.5727372874736036\n"
     ]
    }
   ],
   "source": [
    "compX(4,0,1)"
   ]
  },
  {
   "cell_type": "markdown",
   "metadata": {},
   "source": [
    "We can conclude that a n value less than 4 isn't good for this approach"
   ]
  }
 ],
 "metadata": {
  "kernelspec": {
   "display_name": "Python 3",
   "language": "python",
   "name": "python3"
  },
  "language_info": {
   "codemirror_mode": {
    "name": "ipython",
    "version": 3
   },
   "file_extension": ".py",
   "mimetype": "text/x-python",
   "name": "python",
   "nbconvert_exporter": "python",
   "pygments_lexer": "ipython3",
   "version": "3.7.0"
  }
 },
 "nbformat": 4,
 "nbformat_minor": 2
}
