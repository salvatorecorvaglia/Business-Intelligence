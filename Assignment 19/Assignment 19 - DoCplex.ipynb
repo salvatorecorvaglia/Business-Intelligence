{
 "cells": [
  {
   "cell_type": "markdown",
   "metadata": {},
   "source": [
    "# Assignment 19 - DoCplex"
   ]
  },
  {
   "cell_type": "markdown",
   "metadata": {},
   "source": [
    "### Problem"
   ]
  },
  {
   "cell_type": "markdown",
   "metadata": {},
   "source": [
    "Express the product mix model studied today in DoCplex and solve it."
   ]
  },
  {
   "cell_type": "markdown",
   "metadata": {},
   "source": [
    "### Resolution"
   ]
  },
  {
   "cell_type": "markdown",
   "metadata": {},
   "source": [
    "We can find the following situation to optimize:\n",
    "    $$Max: Z = 3X_1 + 5X_2 $$\n",
    "    $$s.t.$$\n",
    "    $$X_3 + X_4 + X_5 = 10$$\n",
    "    $$X_1\\leq40X_3$$\n",
    "    $$2X_2\\leq40X_4$$\n",
    "    $$3X_1+2X_2\\leq40X_5$$\n",
    "So we make the following implementation with DoCplex:"
   ]
  },
  {
   "cell_type": "code",
   "execution_count": null,
   "metadata": {},
   "outputs": [],
   "source": [
    "from docplex.mp.model import Model\n",
    "\n",
    "mdl = Model(name=\"Products\")\n",
    "\n",
    "nbProd1 = mdl.integer_var(name=\"nbProd1\")\n",
    "nbProd2 = mdl.integer_var(name=\"nbProd2\")\n",
    "nbWork1 = mdl.integer_var(name=\"nbWork1\")\n",
    "nbWork2 = mdl.integer_var(name=\"nbWork2\")\n",
    "nbWork3 = mdl.integer_var(name=\"nbWork3\")\n",
    "\n",
    "mdl.add_constraint( nbWork1 + nbWork2 + nbWork3 == 10, \"workers\")\n",
    "mdl.add_constraint( nbProd1 <= 40*nbWork1, \"Plant1\")\n",
    "mdl.add_constraint( 2*nbProd2 <= 40*nbWork2, \"Plant2\")\n",
    "mdl.add_constraint( 3*nbProd1 + 2*nbProd2 <= 40*nbWork3, \"Plant3\")\n",
    "\n",
    "mdl.maximize(3*nbProd1 + 5*nbProd2)\n",
    "\n",
    "mdl.parameters.threads = 4\n",
    "mdl.solve(log_output=False)\n",
    "\n",
    "print(\"The optimal values obtained are:\")\n",
    "print(\"Product 1:\", nbProd1.solution_value)\n",
    "print(\"Product 2:\", nbProd2.solution_value)\n",
    "print(\"Workers plant 1:\", nbWork1.solution_value)\n",
    "print(\"Workers plant 2:\", nbWork2.solution_value)\n",
    "print(\"Workers plant 3:\", nbWork3.solution_value)"
   ]
  },
  {
   "cell_type": "code",
   "execution_count": null,
   "metadata": {},
   "outputs": [],
   "source": []
  }
 ],
 "metadata": {
  "kernelspec": {
   "display_name": "Python 3",
   "language": "python",
   "name": "python3"
  },
  "language_info": {
   "codemirror_mode": {
    "name": "ipython",
    "version": 3
   },
   "file_extension": ".py",
   "mimetype": "text/x-python",
   "name": "python",
   "nbconvert_exporter": "python",
   "pygments_lexer": "ipython3",
   "version": "3.7.0"
  }
 },
 "nbformat": 4,
 "nbformat_minor": 2
}
